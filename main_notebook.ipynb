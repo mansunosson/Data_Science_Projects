{
 "cells": [
  {
   "cell_type": "markdown",
   "metadata": {},
   "source": [
    "# Classifying defaults using transaction data\n",
    "\n",
    "## Outline\n",
    "1. Data validation\n",
    "1. Feature engineering @ transaction level\n",
    "1. Visualisation of variables/KPIs @ company level\n",
    "1. Modelling/Classification"
   ]
  },
  {
   "cell_type": "code",
   "execution_count": 2,
   "metadata": {},
   "outputs": [],
   "source": [
    "import pandas as pd\n",
    "import numpy as np\n",
    "from datetime import datetime\n",
    "import matplotlib.pyplot as plt\n",
    "from functools import reduce\n",
    "from scipy import stats\n",
    "from statistics import mode \n",
    "import inspect\n",
    "from custom_functions import *"
   ]
  },
  {
   "cell_type": "code",
   "execution_count": 3,
   "metadata": {},
   "outputs": [
    {
     "data": {
      "text/html": [
       "<div>\n",
       "<style scoped>\n",
       "    .dataframe tbody tr th:only-of-type {\n",
       "        vertical-align: middle;\n",
       "    }\n",
       "\n",
       "    .dataframe tbody tr th {\n",
       "        vertical-align: top;\n",
       "    }\n",
       "\n",
       "    .dataframe thead th {\n",
       "        text-align: right;\n",
       "    }\n",
       "</style>\n",
       "<table border=\"1\" class=\"dataframe\">\n",
       "  <thead>\n",
       "    <tr style=\"text-align: right;\">\n",
       "      <th></th>\n",
       "      <th>company_segment</th>\n",
       "      <th>company_age_segment</th>\n",
       "      <th>bad</th>\n",
       "      <th>user_id</th>\n",
       "      <th>transaction_amt</th>\n",
       "      <th>remaining_transaction_amt</th>\n",
       "      <th>trans_initiated_date</th>\n",
       "      <th>trans_delivery_date</th>\n",
       "      <th>trans_created_date</th>\n",
       "      <th>trans_payment_due_date</th>\n",
       "      <th>trans_payment_date</th>\n",
       "      <th>receiver_not_company</th>\n",
       "      <th>customer_system_receiver_id</th>\n",
       "      <th>customer_receiver_id</th>\n",
       "      <th>transaction_id</th>\n",
       "    </tr>\n",
       "  </thead>\n",
       "  <tbody>\n",
       "    <tr>\n",
       "      <td>0</td>\n",
       "      <td>d</td>\n",
       "      <td>old</td>\n",
       "      <td>0.0</td>\n",
       "      <td>39447</td>\n",
       "      <td>21313.0</td>\n",
       "      <td>0.0</td>\n",
       "      <td>2016-02-09</td>\n",
       "      <td>2016-03-28</td>\n",
       "      <td>2016-03-28</td>\n",
       "      <td>2016-03-11</td>\n",
       "      <td>2016-02-15</td>\n",
       "      <td>False</td>\n",
       "      <td>34428773.0</td>\n",
       "      <td>2836047</td>\n",
       "      <td>318072314.0</td>\n",
       "    </tr>\n",
       "    <tr>\n",
       "      <td>1</td>\n",
       "      <td>d</td>\n",
       "      <td>old</td>\n",
       "      <td>0.0</td>\n",
       "      <td>39447</td>\n",
       "      <td>120000.0</td>\n",
       "      <td>0.0</td>\n",
       "      <td>2016-03-21</td>\n",
       "      <td>NaN</td>\n",
       "      <td>2016-03-29</td>\n",
       "      <td>2016-04-20</td>\n",
       "      <td>2016-05-08</td>\n",
       "      <td>False</td>\n",
       "      <td>38835715.0</td>\n",
       "      <td>2836047</td>\n",
       "      <td>246241747.0</td>\n",
       "    </tr>\n",
       "    <tr>\n",
       "      <td>2</td>\n",
       "      <td>d</td>\n",
       "      <td>old</td>\n",
       "      <td>0.0</td>\n",
       "      <td>39447</td>\n",
       "      <td>52000.0</td>\n",
       "      <td>0.0</td>\n",
       "      <td>2016-02-15</td>\n",
       "      <td>NaN</td>\n",
       "      <td>2016-03-27</td>\n",
       "      <td>2016-03-17</td>\n",
       "      <td>2016-02-15</td>\n",
       "      <td>False</td>\n",
       "      <td>38835715.0</td>\n",
       "      <td>2836047</td>\n",
       "      <td>484971796.0</td>\n",
       "    </tr>\n",
       "    <tr>\n",
       "      <td>3</td>\n",
       "      <td>d</td>\n",
       "      <td>old</td>\n",
       "      <td>0.0</td>\n",
       "      <td>39447</td>\n",
       "      <td>160000.0</td>\n",
       "      <td>0.0</td>\n",
       "      <td>2016-02-23</td>\n",
       "      <td>NaN</td>\n",
       "      <td>2016-03-29</td>\n",
       "      <td>2016-03-25</td>\n",
       "      <td>2016-02-24</td>\n",
       "      <td>False</td>\n",
       "      <td>38835715.0</td>\n",
       "      <td>2836047</td>\n",
       "      <td>312692849.0</td>\n",
       "    </tr>\n",
       "    <tr>\n",
       "      <td>4</td>\n",
       "      <td>d</td>\n",
       "      <td>old</td>\n",
       "      <td>0.0</td>\n",
       "      <td>39447</td>\n",
       "      <td>6506.0</td>\n",
       "      <td>0.0</td>\n",
       "      <td>2016-02-11</td>\n",
       "      <td>NaN</td>\n",
       "      <td>2016-03-27</td>\n",
       "      <td>2016-03-13</td>\n",
       "      <td>2016-02-19</td>\n",
       "      <td>True</td>\n",
       "      <td>19762963.0</td>\n",
       "      <td>2836047</td>\n",
       "      <td>291664948.0</td>\n",
       "    </tr>\n",
       "  </tbody>\n",
       "</table>\n",
       "</div>"
      ],
      "text/plain": [
       "  company_segment company_age_segment  bad  user_id  transaction_amt  \\\n",
       "0               d                 old  0.0    39447          21313.0   \n",
       "1               d                 old  0.0    39447         120000.0   \n",
       "2               d                 old  0.0    39447          52000.0   \n",
       "3               d                 old  0.0    39447         160000.0   \n",
       "4               d                 old  0.0    39447           6506.0   \n",
       "\n",
       "   remaining_transaction_amt trans_initiated_date trans_delivery_date  \\\n",
       "0                        0.0           2016-02-09          2016-03-28   \n",
       "1                        0.0           2016-03-21                 NaN   \n",
       "2                        0.0           2016-02-15                 NaN   \n",
       "3                        0.0           2016-02-23                 NaN   \n",
       "4                        0.0           2016-02-11                 NaN   \n",
       "\n",
       "  trans_created_date trans_payment_due_date trans_payment_date  \\\n",
       "0         2016-03-28             2016-03-11         2016-02-15   \n",
       "1         2016-03-29             2016-04-20         2016-05-08   \n",
       "2         2016-03-27             2016-03-17         2016-02-15   \n",
       "3         2016-03-29             2016-03-25         2016-02-24   \n",
       "4         2016-03-27             2016-03-13         2016-02-19   \n",
       "\n",
       "   receiver_not_company  customer_system_receiver_id  customer_receiver_id  \\\n",
       "0                 False                   34428773.0               2836047   \n",
       "1                 False                   38835715.0               2836047   \n",
       "2                 False                   38835715.0               2836047   \n",
       "3                 False                   38835715.0               2836047   \n",
       "4                  True                   19762963.0               2836047   \n",
       "\n",
       "   transaction_id  \n",
       "0     318072314.0  \n",
       "1     246241747.0  \n",
       "2     484971796.0  \n",
       "3     312692849.0  \n",
       "4     291664948.0  "
      ]
     },
     "execution_count": 3,
     "metadata": {},
     "output_type": "execute_result"
    }
   ],
   "source": [
    "transactions = pd.read_csv(\"case_data_2020-12-09.csv\") \n",
    "transactions.head()"
   ]
  },
  {
   "cell_type": "markdown",
   "metadata": {},
   "source": [
    "## Data validation\n",
    "It seems like there are no transactions at two levels (~ 5-6k & 11-12k)."
   ]
  },
  {
   "cell_type": "code",
   "execution_count": 4,
   "metadata": {},
   "outputs": [
    {
     "data": {
      "image/png": "[encoded data removed]",
      "text/plain": [
       "<Figure size 432x288 with 1 Axes>"
      ]
     },
     "metadata": {
      "needs_background": "light"
     },
     "output_type": "display_data"
    }
   ],
   "source": [
    "plt.hist(transactions[(transactions['transaction_amt']<40000) & (transactions['transaction_amt']>-7000)]['transaction_amt'], bins=100)\n",
    "plt.title('Histogram of transaction amounts', fontweight='bold', fontsize=14)\n",
    "plt.show()"
   ]
  },
  {
   "cell_type": "markdown",
   "metadata": {},
   "source": [
    "Identify disproportionately represented receiver. It seems a single customer is involved in 1/4 of all transactions! It might make sense to examine if these transactions differ from others."
   ]
  },
  {
   "cell_type": "code",
   "execution_count": 5,
   "metadata": {},
   "outputs": [
    {
     "data": {
      "image/png": "[encoded data removed]",
      "text/plain": [
       "<Figure size 432x288 with 1 Axes>"
      ]
     },
     "metadata": {
      "needs_background": "light"
     },
     "output_type": "display_data"
    }
   ],
   "source": [
    "plt.hist(transactions['customer_receiver_id'], bins=100)\n",
    "plt.title('Histogram of receiver id', fontweight='bold', fontsize=14)\n",
    "plt.ylabel('Transaction frequency', fontweight='bold',fontsize=12)\n",
    "plt.xlabel('Customer receiver id', fontweight='bold',fontsize=12)\n",
    "plt.xticks([1000000, 2000000, 3000000, 4000000, 5000000])\n",
    "plt.show()"
   ]
  },
  {
   "cell_type": "markdown",
   "metadata": {},
   "source": [
    "Check that static company variables are static for \"key\". With this function we can make sure that cases (key) have distinct characteristics (variable)."
   ]
  },
  {
   "cell_type": "code",
   "execution_count": 48,
   "metadata": {},
   "outputs": [
    {
     "data": {
      "text/plain": [
       "'bad is static for user_id: True'"
      ]
     },
     "execution_count": 48,
     "metadata": {},
     "output_type": "execute_result"
    }
   ],
   "source": [
    "is_static(transactions, key = 'user_id', variable = 'bad')"
   ]
  },
  {
   "cell_type": "markdown",
   "metadata": {},
   "source": [
    "## Feature engineering\n",
    "### Payment delay variable\n",
    "$$\\texttt{pay_delay} :=\\textrm{Number of days between}\\:\\:\\texttt{payment_date}\\:\\:\\textrm{and}\\:\\:\\texttt{due_date}$$\n",
    "\n",
    "This variable has a non-negligible rate of missingness, along with $\\texttt{trans_delivery_date}$.\n"
   ]
  },
  {
   "cell_type": "code",
   "execution_count": 7,
   "metadata": {},
   "outputs": [
    {
     "name": "stdout",
     "output_type": "stream",
     "text": [
      "Missing values: \n",
      "company_segment                     0\n",
      "company_age_segment                 0\n",
      "bad                                 0\n",
      "user_id                             0\n",
      "transaction_amt                     0\n",
      "remaining_transaction_amt           0\n",
      "trans_initiated_date                0\n",
      "trans_delivery_date            752013\n",
      "trans_created_date                  0\n",
      "trans_payment_due_date              1\n",
      "trans_payment_date             381472\n",
      "receiver_not_company                0\n",
      "customer_system_receiver_id         0\n",
      "customer_receiver_id                0\n",
      "transaction_id                      0\n",
      "pay_delay                      381473\n",
      "dtype: int64\n"
     ]
    }
   ],
   "source": [
    "transactions['pay_delay'] = (pd.to_datetime(transactions['trans_payment_date'])-pd.to_datetime(transactions['trans_payment_due_date'])).astype('timedelta64[D]') # calculate payment delay for each transaction and convert to float\n",
    "print('Missing values: \\n' + str(transactions.isnull().sum()))"
   ]
  },
  {
   "cell_type": "markdown",
   "metadata": {},
   "source": [
    "It seems the $\\texttt{pay_delay}$ variable has some unreasonable outliers. We might want to consider a maximum number of days for lateness and treat delayed payments > 150 days for example as contested, or erroneously entered dates. Also, it might make sense to only consider positive delays, and set the negative delays (early payments) to zero."
   ]
  },
  {
   "cell_type": "code",
   "execution_count": 8,
   "metadata": {},
   "outputs": [
    {
     "data": {
      "text/plain": [
       "DescribeResult(nobs=3759194, minmax=(-36531.0, 2305.0), mean=7.533465152370428, variance=5336.877052206926, skewness=-146.04740927796774, kurtosis=71167.84606653173)"
      ]
     },
     "execution_count": 8,
     "metadata": {},
     "output_type": "execute_result"
    }
   ],
   "source": [
    "stats.describe(transactions[~np.isnan(transactions['pay_delay'])]['pay_delay']) # get descriptive statistics, ignoring NaNs"
   ]
  },
  {
   "cell_type": "markdown",
   "metadata": {},
   "source": [
    "### Partial, Contested (Late)-variable\n",
    "$\\texttt{PCL}$ (partial, contested, late) to handle partial transactions (and possibly very long delays)\n",
    "$$PCL := \\mathbb{1}\\{\\texttt{pay_delay} = NaN | \\texttt{remaining_amt} \\neq 0\\}$$"
   ]
  },
  {
   "cell_type": "code",
   "execution_count": 9,
   "metadata": {},
   "outputs": [],
   "source": [
    "transactions['PCL'] = 0\n",
    "transactions.loc[np.isnan(transactions['pay_delay']),'PCL'] = 1\n",
    "transactions.loc[transactions['remaining_transaction_amt'] != 0, 'PCL'] = 1"
   ]
  },
  {
   "cell_type": "markdown",
   "metadata": {},
   "source": [
    "### Relative cashflow (CF/CAPEX)\n",
    "Prepare calculation by creating two new columns: $$\\texttt{CF}\\:\\: := \\:\\: \\sum \\textrm{positive transactions} + \\sum\\textrm{negative transactions where}\\:\\: \\texttt{receiver_not_company}\\:\\: =\\:\\: 1$$ \n",
    "\n",
    "$$\\texttt{CAPEX}\\:\\: :=\\:\\: \\sum\\textrm{negative transactions where}\\:\\: \\texttt{receiver_not_company}\\:\\: =\\:\\: 0$$"
   ]
  },
  {
   "cell_type": "code",
   "execution_count": 10,
   "metadata": {},
   "outputs": [],
   "source": [
    "transactions['cf'] = 0\n",
    "transactions['capex'] = 0\n",
    "# create mask for cash flow transactions \n",
    "cf_mask = (transactions['remaining_transaction_amt'] == 0) & ((transactions['transaction_amt'] > 0) | (transactions['receiver_not_company'] == 1))\n",
    "# create cash flow column\n",
    "transactions.loc[cf_mask,'cf'] = transactions.loc[cf_mask,'transaction_amt']\n",
    "# create mask for capEX transactions\n",
    "capex_mask = (transactions['transaction_amt']<0) & (transactions['receiver_not_company'] == 0)\n",
    "# create CapEX column\n",
    "transactions.loc[capex_mask,'capex'] = transactions.loc[capex_mask,'transaction_amt']"
   ]
  },
  {
   "cell_type": "markdown",
   "metadata": {},
   "source": [
    "### Number of recorded transaction\n",
    "Create a column of ones that will become $\\texttt{num_transactions}$ when summed in over $\\texttt{user_id}$."
   ]
  },
  {
   "cell_type": "code",
   "execution_count": 11,
   "metadata": {},
   "outputs": [],
   "source": [
    "transactions['num_transactions'] = 1"
   ]
  },
  {
   "cell_type": "markdown",
   "metadata": {},
   "source": [
    "### Likelihood ratio test for FSD of transaction amounts\n",
    "The idea here is to test Benfords law goodness of fit of the FSD of transaction amounts. Perhaps cheating companies are more likely to default? \n",
    "\n",
    "\n",
    "Implementation:\n",
    "\n",
    "```python\n",
    "def fraud_LR(x):\n",
    "    x     = np.abs(x) #take absolute value to make sure F doesnt contain \"-\"\n",
    "    F     = [int(str(i)[0]) for i in x] # construct list of first significant digits (FSDs)\n",
    "    F     = sorted(Counter(list(filter(lambda dig: dig != 0, F))).most_common(9)) #filter zeros and count occurences .most_common(n) returns ordered tuples and sorted sorts lexicografically\n",
    "    n     = sum(i for _ , i in F)   #get number of transactions       \n",
    "    P_hat = [f/n for _ , f in F]  #get frequency of FSDs\n",
    "    P     = [np.log10(1+1/d) for d in range(1,10)]  #calc. distribution fcn. of Benfords law\n",
    "    LR    = 2*n*sum([p_hat*np.log(p_hat/p) for p_hat , p in list(zip(P_hat, P))]) # Calculate 2 ln Lambda .~ Chisq(8)\n",
    "    return LR\n",
    "```\n",
    "\n",
    "The function **fraud_LR** is used as *aggfunc* in **pd.pivot_table** to calculate a likelihood ratio for each $\\texttt{user_id}$."
   ]
  },
  {
   "cell_type": "markdown",
   "metadata": {},
   "source": [
    "### Standardized Payment delay trend\n",
    "The key idea here is that bad companies we not bad when the transactions were recorded in the system.\n",
    "This variable captures the temporal structure of payment delays over the differently sized observation periods by standardizing\n",
    "time $$d_1,...,d_n \\rightarrow [0, 1],$$ \n",
    "standardizing the payment delays to have zero mean and unit variance for each $\\texttt{user_id}$, and fitting a linear trend to the transformed observation. The implementation takes a dataframe of transactions and returns a dataframe of standardized trends, indexed by $\\texttt{user_id}$. The calculation is repeated for credits, debits and all transactions.\n",
    "\n",
    "```python\n",
    "def pay_delay_trend(df, transaction_type):\n",
    "    OUT = pd.DataFrame(columns = ('user_id', str(transaction_type) + '_delay_trend'))\n",
    "    OUT['user_id'] = df['user_id'].unique()\n",
    "    for user in OUT['user_id']: # Loop over unique user_id's\n",
    "        try:\n",
    "            # if-fork for the cases credit, debit and both (default) \n",
    "            if transaction_type == 'credit':\n",
    "                delays = df[(df['user_id'] == user) & (df['remaining_transaction_amt'] == 0) & (df['transaction_amt'] < 0)][['trans_payment_due_date', 'pay_delay']].sort_values(by = 'trans_payment_due_date').dropna() # get due_dates and pay_delays for user \n",
    "            elif transaction_type == 'debit':\n",
    "                delays = df[(df['user_id'] == user) & (df['remaining_transaction_amt'] == 0) & (df['transaction_amt'] > 0)][['trans_payment_due_date', 'pay_delay']].sort_values(by = 'trans_payment_due_date').dropna() # get due_dates and pay_delays for user \n",
    "            else:\n",
    "                delays = df[(df['user_id'] == user) & (df['remaining_transaction_amt'] == 0)][['trans_payment_due_date', 'pay_delay']].sort_values(by = 'trans_payment_due_date').dropna() # get due_dates and pay_delays for user \n",
    "            delays['reltime'] = (pd.to_datetime(delays['trans_payment_due_date'])-np.min(pd.to_datetime(delays['trans_payment_due_date']))).astype('timedelta64[D]') # calculate number of days since first obs\n",
    "            delays['reltime'] = delays['reltime']/np.max(delays['reltime']) # standardize time\n",
    "            delays = delays.groupby('reltime')['pay_delay'].mean() # take mean of delays with the same time stamp\n",
    "            delays = (delays-delays.mean())/delays.std() # standardize delays\n",
    "            OUT.loc[OUT['user_id'] == user,str(transaction_type) + '_delay_trend'] = np.polyfit(delays.index, delays, 1)[0] # return the first order term. Note: [1] is the intercept!  \n",
    "        except np.linalg.LinAlgError as e: # This code checks whether the thrown error is related to degenerate SVD\n",
    "            if 'Singular matrix' in str(e):\n",
    "                OUT.loc[OUT['user_id'] == user,str(transaction_type) + '_delay_trend'] = 0 # Define slope of point to be zero\n",
    "        except:\n",
    "            OUT.loc[OUT['user_id'] == user,str(transaction_type) + '_delay_trend'] = np.nan # return nan if e.g. no completed transactions\n",
    "    return OUT\n",
    "```"
   ]
  },
  {
   "cell_type": "markdown",
   "metadata": {},
   "source": [
    "## Visualisation of variables/KPIs at company level\n",
    "### Convert panel data to cross-sectional data using pd.pivot_table\n",
    "The aggregating functions are mostly self explanatory. Some are custom functions defined in custom_functions.py."
   ]
  },
  {
   "cell_type": "code",
   "execution_count": 12,
   "metadata": {},
   "outputs": [],
   "source": [
    "companies = pd.pivot_table(transactions, values=['bad','cf','capex','company_segment','company_age_segment',\n",
    "                                     'trans_initiated_date', 'pay_delay', 'num_transactions', \n",
    "                                     'transaction_amt', 'receiver_not_company', 'PCL', 'customer_receiver_id'], \n",
    "                           index='user_id',\n",
    "                           aggfunc={'bad': pivot_static, # pivot static checks whether the variable is static for the key\n",
    "                                    'cf': np.sum,\n",
    "                                    'capex': np.sum,\n",
    "                                    'company_segment': pivot_static,\n",
    "                                    'company_age_segment': pivot_static,\n",
    "                                    'trans_initiated_date': daterange, # gives the number of days between first and last initiated transaction\n",
    "                                    'pay_delay': np.mean,\n",
    "                                    'num_transactions': np.sum, # sums the column of ones to give a total number of transactions variable\n",
    "                                    'transaction_amt': [np.mean, fraud_LR], # transaction amount is aggregated using both mean and the fraud diagnostic\n",
    "                                    'receiver_not_company': np.mean, \n",
    "                                    'PCL': np.mean,\n",
    "                                    'customer_receiver_id':lambda x: len(x.unique())}) # gives the number of unique receiver_id's for each user_id. Perhaps use system_receiver_id instead as |{system_receiver_id}| > |{receiver_id}|"
   ]
  },
  {
   "cell_type": "markdown",
   "metadata": {},
   "source": [
    "Calculate CF/CAPEX variable:"
   ]
  },
  {
   "cell_type": "code",
   "execution_count": 13,
   "metadata": {},
   "outputs": [],
   "source": [
    "companies['cf/capex'] = companies[('cf', 'sum')]/abs(companies[('capex', 'sum')])"
   ]
  },
  {
   "cell_type": "markdown",
   "metadata": {},
   "source": [
    "Replace infinite values with NaN. This causes a lot of missingness."
   ]
  },
  {
   "cell_type": "code",
   "execution_count": 17,
   "metadata": {},
   "outputs": [
    {
     "name": "stdout",
     "output_type": "stream",
     "text": [
      "Proportion of missing values: \n",
      "PCL                   mean             0.0\n",
      "bad                   pivot_static     0.0\n",
      "capex                 sum              0.0\n",
      "cf                    sum              0.0\n",
      "company_age_segment   pivot_static     0.0\n",
      "company_segment       pivot_static     0.0\n",
      "customer_receiver_id  <lambda>         0.0\n",
      "num_transactions      sum              0.0\n",
      "pay_delay             mean             4.6\n",
      "receiver_not_company  mean             0.0\n",
      "trans_initiated_date  daterange        0.0\n",
      "transaction_amt       fraud_LR         0.0\n",
      "                      mean             0.0\n",
      "cf/capex                              29.9\n",
      "dtype: float64\n"
     ]
    }
   ],
   "source": [
    "companies['cf/capex'] = companies['cf/capex'].replace([np.inf, -np.inf], np.nan)\n",
    "print('Proportion of missing values: \\n'  + str(round(companies.isnull().sum()*100/len(companies), 1)))"
   ]
  },
  {
   "cell_type": "markdown",
   "metadata": {},
   "source": [
    "Is there another way to define the variable? Relative cash flow seems like a good predictor of default:"
   ]
  },
  {
   "cell_type": "code",
   "execution_count": 18,
   "metadata": {},
   "outputs": [
    {
     "data": {
      "image/png": "[encoded data removed]",
      "text/plain": [
       "<Figure size 432x288 with 1 Axes>"
      ]
     },
     "metadata": {
      "needs_background": "light"
     },
     "output_type": "display_data"
    },
    {
     "data": {
      "image/png": "[encoded data removed]",
      "text/plain": [
       "<Figure size 432x288 with 1 Axes>"
      ]
     },
     "metadata": {
      "needs_background": "light"
     },
     "output_type": "display_data"
    }
   ],
   "source": [
    "relative_CF_figure(companies, by_segment = False)\n",
    "relative_CF_figure(companies, by_segment = True)"
   ]
  },
  {
   "cell_type": "markdown",
   "metadata": {},
   "source": [
    "Calculate $\\texttt{CF}/(1+\\texttt{CAPEX})$ instead to avoid missingness:"
   ]
  },
  {
   "cell_type": "code",
   "execution_count": 19,
   "metadata": {},
   "outputs": [
    {
     "name": "stdout",
     "output_type": "stream",
     "text": [
      "Proportion of missing values: \n",
      "PCL                   mean            0.0\n",
      "bad                   pivot_static    0.0\n",
      "capex                 sum             0.0\n",
      "cf                    sum             0.0\n",
      "company_age_segment   pivot_static    0.0\n",
      "company_segment       pivot_static    0.0\n",
      "customer_receiver_id  <lambda>        0.0\n",
      "num_transactions      sum             0.0\n",
      "pay_delay             mean            4.6\n",
      "receiver_not_company  mean            0.0\n",
      "trans_initiated_date  daterange       0.0\n",
      "transaction_amt       fraud_LR        0.0\n",
      "                      mean            0.0\n",
      "cf/capex                              0.0\n",
      "dtype: float64\n"
     ]
    }
   ],
   "source": [
    "companies['cf/capex'] = companies[('cf', 'sum')]/(1+abs(companies[('capex', 'sum')]))\n",
    "print('Proportion of missing values: \\n'  + str(round(companies.isnull().sum()*100/len(companies), 1)))"
   ]
  },
  {
   "cell_type": "markdown",
   "metadata": {},
   "source": [
    "With the new definition the variable is not as convincing..."
   ]
  },
  {
   "cell_type": "code",
   "execution_count": 20,
   "metadata": {},
   "outputs": [
    {
     "data": {
      "image/png": "[encoded data removed]",
      "text/plain": [
       "<Figure size 432x288 with 1 Axes>"
      ]
     },
     "metadata": {
      "needs_background": "light"
     },
     "output_type": "display_data"
    },
    {
     "data": {
      "image/png": "[encoded data removed]",
      "text/plain": [
       "<Figure size 432x288 with 1 Axes>"
      ]
     },
     "metadata": {
      "needs_background": "light"
     },
     "output_type": "display_data"
    }
   ],
   "source": [
    "relative_CF_figure(companies, by_segment = False)\n",
    "relative_CF_figure(companies, by_segment = True)"
   ]
  },
  {
   "cell_type": "markdown",
   "metadata": {},
   "source": [
    "The Partial & Contested transaction (PCL) variable seems to be a decent predictor of default. It could further be calculated separately by debit/credit."
   ]
  },
  {
   "cell_type": "code",
   "execution_count": 21,
   "metadata": {},
   "outputs": [
    {
     "data": {
      "image/png": "[encoded data removed]",
      "text/plain": [
       "<Figure size 432x288 with 1 Axes>"
      ]
     },
     "metadata": {
      "needs_background": "light"
     },
     "output_type": "display_data"
    }
   ],
   "source": [
    "PCL_figure(companies)"
   ]
  },
  {
   "cell_type": "markdown",
   "metadata": {},
   "source": [
    "A test-function for the fraud LR test returns the distribution of the test statistic under the null and alternative hypotheses:"
   ]
  },
  {
   "cell_type": "code",
   "execution_count": 24,
   "metadata": {},
   "outputs": [
    {
     "data": {
      "image/png": "[encoded data removed]",
      "text/plain": [
       "<Figure size 432x288 with 2 Axes>"
      ]
     },
     "metadata": {
      "needs_background": "light"
     },
     "output_type": "display_data"
    }
   ],
   "source": [
    "test_fcn_fraud_LR(rep = 1000, sample_size = 200)"
   ]
  },
  {
   "cell_type": "markdown",
   "metadata": {},
   "source": [
    "However, it seems that the test statistic is unlikely to be useful for predicting defaults with this data set."
   ]
  },
  {
   "cell_type": "code",
   "execution_count": 25,
   "metadata": {},
   "outputs": [
    {
     "data": {
      "image/png": "[encoded data removed]",
      "text/plain": [
       "<Figure size 432x288 with 1 Axes>"
      ]
     },
     "metadata": {
      "needs_background": "light"
     },
     "output_type": "display_data"
    }
   ],
   "source": [
    "fraud_figure(companies, min_transactions = 200, alpha = 0.01)"
   ]
  },
  {
   "cell_type": "markdown",
   "metadata": {},
   "source": [
    "Load saved transaction delay trend files (implementation is pretty slow)..."
   ]
  },
  {
   "cell_type": "code",
   "execution_count": 28,
   "metadata": {},
   "outputs": [],
   "source": [
    "credit_delays = pd.read_csv('credit_delays.csv', index_col=0) \n",
    "debit_delays = pd.read_csv('debit_delays.csv', index_col=0) \n",
    "all_delays = pd.read_csv('all_delays.csv', index_col=0) "
   ]
  },
  {
   "cell_type": "markdown",
   "metadata": {},
   "source": [
    "Merge the delay trend frames with the cross-sectional dataframe"
   ]
  },
  {
   "cell_type": "code",
   "execution_count": 29,
   "metadata": {},
   "outputs": [],
   "source": [
    "companies_complete = reduce(lambda  left,right: pd.merge(left, right, how='outer', left_index = True, right_index = True), [companies, credit_delays, debit_delays, all_delays])"
   ]
  },
  {
   "cell_type": "markdown",
   "metadata": {},
   "source": [
    "It seems like good companies have low trend in pay_delays while bad companies typically have negative(!) trend. This is true for both zero-truncated delays and when allowing negative delays."
   ]
  },
  {
   "cell_type": "code",
   "execution_count": 30,
   "metadata": {},
   "outputs": [
    {
     "data": {
      "image/png": "[encoded data removed]",
      "text/plain": [
       "<Figure size 432x288 with 1 Axes>"
      ]
     },
     "metadata": {
      "needs_background": "light"
     },
     "output_type": "display_data"
    }
   ],
   "source": [
    "pay_delay_figure(companies_complete)"
   ]
  },
  {
   "cell_type": "markdown",
   "metadata": {},
   "source": [
    "## Data preparation\n",
    "Check percent missingness for the cross-sectional data set"
   ]
  },
  {
   "cell_type": "code",
   "execution_count": 31,
   "metadata": {},
   "outputs": [
    {
     "name": "stdout",
     "output_type": "stream",
     "text": [
      "Proportion of missing values: \n",
      "(PCL, mean)                             0.0\n",
      "(bad, pivot_static)                     0.0\n",
      "(capex, sum)                            0.0\n",
      "(cf, sum)                               0.0\n",
      "(company_age_segment, pivot_static)     0.0\n",
      "(company_segment, pivot_static)         0.0\n",
      "(customer_receiver_id, <lambda>)        0.0\n",
      "(num_transactions, sum)                 0.0\n",
      "(pay_delay, mean)                       4.6\n",
      "(receiver_not_company, mean)            0.0\n",
      "(trans_initiated_date, daterange)       0.0\n",
      "(transaction_amt, fraud_LR)             0.0\n",
      "(transaction_amt, mean)                 0.0\n",
      "(cf/capex, )                            0.0\n",
      "credit_delay_trend                     51.0\n",
      "debit_delay_trend                      11.8\n",
      "all_delay_trend                        11.4\n",
      "dtype: float64\n"
     ]
    }
   ],
   "source": [
    "print('Proportion of missing values: \\n'  + str(round(companies_complete.isnull().sum()*100/len(companies_complete), 1)))"
   ]
  },
  {
   "cell_type": "markdown",
   "metadata": {},
   "source": [
    "Check percent missingness by default status:"
   ]
  },
  {
   "cell_type": "code",
   "execution_count": 32,
   "metadata": {},
   "outputs": [
    {
     "name": "stdout",
     "output_type": "stream",
     "text": [
      "Proportion of missing values, defaulted: \n",
      "(PCL, mean)                             0.0\n",
      "(bad, pivot_static)                     0.0\n",
      "(capex, sum)                            0.0\n",
      "(cf, sum)                               0.0\n",
      "(company_age_segment, pivot_static)     0.0\n",
      "(company_segment, pivot_static)         0.0\n",
      "(customer_receiver_id, <lambda>)        0.0\n",
      "(num_transactions, sum)                 0.0\n",
      "(pay_delay, mean)                      10.3\n",
      "(receiver_not_company, mean)            0.0\n",
      "(trans_initiated_date, daterange)       0.0\n",
      "(transaction_amt, fraud_LR)             0.0\n",
      "(transaction_amt, mean)                 0.0\n",
      "(cf/capex, )                            0.0\n",
      "credit_delay_trend                     44.2\n",
      "debit_delay_trend                      22.4\n",
      "all_delay_trend                        21.0\n",
      "dtype: float64\n",
      "Proportion of missing values, not defaulted: \n",
      "(PCL, mean)                             0.0\n",
      "(bad, pivot_static)                     0.0\n",
      "(capex, sum)                            0.0\n",
      "(cf, sum)                               0.0\n",
      "(company_age_segment, pivot_static)     0.0\n",
      "(company_segment, pivot_static)         0.0\n",
      "(customer_receiver_id, <lambda>)        0.0\n",
      "(num_transactions, sum)                 0.0\n",
      "(pay_delay, mean)                       4.4\n",
      "(receiver_not_company, mean)            0.0\n",
      "(trans_initiated_date, daterange)       0.0\n",
      "(transaction_amt, fraud_LR)             0.0\n",
      "(transaction_amt, mean)                 0.0\n",
      "(cf/capex, )                            0.0\n",
      "credit_delay_trend                     51.2\n",
      "debit_delay_trend                      11.4\n",
      "all_delay_trend                        11.1\n",
      "dtype: float64\n"
     ]
    }
   ],
   "source": [
    "print('Proportion of missing values, defaulted: \\n'  + str(round(companies_complete[companies_complete[('bad', 'pivot_static')]  == 1].isnull().sum()*100/len(companies_complete[companies_complete[('bad', 'pivot_static')] == 1]), 1)))\n",
    "print('Proportion of missing values, not defaulted: \\n'  + str(round(companies_complete[companies_complete[('bad', 'pivot_static')]  == 0].isnull().sum()*100/len(companies_complete[companies_complete[('bad', 'pivot_static')] == 0]), 1)))"
   ]
  },
  {
   "cell_type": "markdown",
   "metadata": {},
   "source": [
    "We have considerable missingness for credit_delay_trend. Whats worse is that missingness is likely related to the target variable (default status of company). We probably only need one of the delay trend variables."
   ]
  },
  {
   "cell_type": "markdown",
   "metadata": {},
   "source": [
    "We have different number of observed transactions for each user_id and the following transformation is scale-free with regards to transaction history length.\n",
    "\n",
    "$$\\texttt{Transaction_intensity} = \\frac{\\textrm{total number of transactions}}{\\textrm{number of days between first and last initiated transaction}}$$"
   ]
  },
  {
   "cell_type": "code",
   "execution_count": 35,
   "metadata": {},
   "outputs": [],
   "source": [
    "companies_complete['transaction_intensity'] = companies_complete[('num_transactions','sum')]/(1+companies_complete[('trans_initiated_date', 'daterange')])"
   ]
  },
  {
   "cell_type": "markdown",
   "metadata": {},
   "source": [
    "Drop variables that have too high missingness or are only used as transformed variables."
   ]
  },
  {
   "cell_type": "code",
   "execution_count": 36,
   "metadata": {},
   "outputs": [],
   "source": [
    "companies_model = companies_complete.drop(columns = ['credit_delay_trend', \n",
    "                                                     'debit_delay_trend', \n",
    "                                                     ('transaction_amt', 'fraud_LR'), \n",
    "                                                     ('cf', 'sum'), \n",
    "                                                     ('capex', 'sum'), \n",
    "                                                     ('num_transactions', 'sum')])"
   ]
  },
  {
   "cell_type": "markdown",
   "metadata": {},
   "source": [
    "After dropping rows where at least one variable is missing we are left with 15944 observations (out of 18000)."
   ]
  },
  {
   "cell_type": "code",
   "execution_count": 37,
   "metadata": {},
   "outputs": [],
   "source": [
    "companies_model.dropna(inplace = True)"
   ]
  },
  {
   "cell_type": "markdown",
   "metadata": {},
   "source": [
    "In the cleaned data set the proportion of bad (defaulted) companies is 3.27 %"
   ]
  },
  {
   "cell_type": "code",
   "execution_count": 38,
   "metadata": {},
   "outputs": [
    {
     "data": {
      "text/plain": [
       "0.032739588559959856"
      ]
     },
     "execution_count": 38,
     "metadata": {},
     "output_type": "execute_result"
    }
   ],
   "source": [
    "np.mean(companies_model[('bad', 'pivot_static')])"
   ]
  },
  {
   "cell_type": "markdown",
   "metadata": {},
   "source": [
    "Rename columns to more managable names."
   ]
  },
  {
   "cell_type": "code",
   "execution_count": 39,
   "metadata": {},
   "outputs": [],
   "source": [
    "companies_model.rename(columns={('PCL', 'mean'): 'PCL',                                    # proportion of PCL transactions\n",
    "                                ('bad', 'pivot_static'):                 'bad',            # bad, indicator\n",
    "                                ('company_age_segment', 'pivot_static'): 'age',            # age, categorical\n",
    "                                ('company_segment', 'pivot_static'):     'segment',        # segment, categorical\n",
    "                                ('customer_receiver_id', '<lambda>'):    'n_customers',    # number of unique receiver ids\n",
    "                                ('pay_delay', 'mean'):                   'pay_delay',      # average transaction delay\n",
    "                                ('receiver_not_company', 'mean'):        'B2C',            # degree of B2C (0-1)\n",
    "                                ('trans_initiated_date', 'daterange'):   'system_history', # number of days between first and last observed transaction\n",
    "                                ('transaction_amt', 'mean'):             'avg_trans_size', # average transaction size\n",
    "                                ('cf/capex', ''):                        'rel_cashflow',   # Relative cashflow\n",
    "                                'all_delay_trend':                       'delay_trend'},   # Standardized delay trend\n",
    "                                inplace = True)      # Standardized delay trend"
   ]
  },
  {
   "cell_type": "markdown",
   "metadata": {},
   "source": [
    "Get dummy variables for age and segment, and check that none of the dummies have zero mean."
   ]
  },
  {
   "cell_type": "code",
   "execution_count": 40,
   "metadata": {},
   "outputs": [
    {
     "data": {
      "text/plain": [
       "PCL                           0.077992\n",
       "bad                           0.032740\n",
       "n_customers                  34.381711\n",
       "pay_delay                     6.359440\n",
       "B2C                           0.180756\n",
       "system_history              545.445748\n",
       "avg_trans_size            44034.982943\n",
       "rel_cashflow             358219.514708\n",
       "delay_trend                  -0.195099\n",
       "transaction_intensity         0.428874\n",
       "age_mature                    0.280607\n",
       "age_new                       0.180883\n",
       "age_old                       0.199636\n",
       "segment_b                     0.026719\n",
       "segment_c                     0.020321\n",
       "segment_d                     0.338497\n",
       "segment_e                     0.052245\n",
       "segment_f                     0.156109\n",
       "segment_g                     0.235637\n",
       "segment_h                     0.098093\n",
       "segment_i                     0.047792\n",
       "segment_x                     0.000314\n",
       "dtype: float64"
      ]
     },
     "execution_count": 40,
     "metadata": {},
     "output_type": "execute_result"
    }
   ],
   "source": [
    "companies_model = pd.get_dummies(companies_model, drop_first=True)\n",
    "np.mean(companies_model)"
   ]
  },
  {
   "cell_type": "markdown",
   "metadata": {},
   "source": [
    "## Modelling defaults using logistic regression\n",
    "### Some good old fashioned statistics..."
   ]
  },
  {
   "cell_type": "code",
   "execution_count": 42,
   "metadata": {},
   "outputs": [
    {
     "name": "stdout",
     "output_type": "stream",
     "text": [
      "Optimization terminated successfully.\n",
      "         Current function value: 0.123357\n",
      "         Iterations 21\n",
      "                           Logit Regression Results                           \n",
      "==============================================================================\n",
      "Dep. Variable:                    bad   No. Observations:                15944\n",
      "Model:                          Logit   Df Residuals:                    15922\n",
      "Method:                           MLE   Df Model:                           21\n",
      "Date:                Sun, 20 Dec 2020   Pseudo R-squ.:                  0.1442\n",
      "Time:                        19:16:48   Log-Likelihood:                -1966.8\n",
      "converged:                       True   LL-Null:                       -2298.2\n",
      "Covariance Type:            nonrobust   LLR p-value:                9.845e-127\n",
      "=========================================================================================\n",
      "                            coef    std err          z      P>|z|      [0.025      0.975]\n",
      "-----------------------------------------------------------------------------------------\n",
      "Intercept                -2.5123      0.364     -6.908      0.000      -3.225      -1.799\n",
      "PCL                       2.1327      0.149     14.317      0.000       1.841       2.425\n",
      "n_customers              -0.0008      0.001     -1.150      0.250      -0.002       0.001\n",
      "pay_delay                -0.0030      0.002     -1.852      0.064      -0.006       0.000\n",
      "B2C                       0.2042      0.158      1.290      0.197      -0.106       0.515\n",
      "system_history           -0.0021      0.000    -11.618      0.000      -0.003      -0.002\n",
      "avg_trans_size        -1.677e-06   1.11e-06     -1.517      0.129   -3.84e-06     4.9e-07\n",
      "rel_cashflow          -4.654e-08   6.56e-08     -0.709      0.478   -1.75e-07    8.21e-08\n",
      "delay_trend              -0.1529      0.037     -4.155      0.000      -0.225      -0.081\n",
      "transaction_intensity     0.0372      0.019      1.913      0.056      -0.001       0.075\n",
      "age_mature               -0.3083      0.109     -2.825      0.005      -0.522      -0.094\n",
      "age_new                  -1.2788      0.157     -8.157      0.000      -1.586      -0.972\n",
      "age_old                  -1.0162      0.150     -6.774      0.000      -1.310      -0.722\n",
      "segment_b                 0.2356      0.466      0.505      0.614      -0.679       1.150\n",
      "segment_c                 0.1792      0.490      0.366      0.714      -0.781       1.139\n",
      "segment_d                 0.8030      0.352      2.280      0.023       0.113       1.493\n",
      "segment_e                 0.6661      0.383      1.740      0.082      -0.084       1.417\n",
      "segment_f                -0.8202      0.405     -2.025      0.043      -1.614      -0.026\n",
      "segment_g                -0.2062      0.370     -0.557      0.578      -0.932       0.520\n",
      "segment_h                -0.0046      0.383     -0.012      0.990      -0.756       0.747\n",
      "segment_i                -0.0891      0.427     -0.209      0.835      -0.927       0.748\n",
      "segment_x              -116.2229   3.24e+25  -3.58e-24      1.000   -6.35e+25    6.35e+25\n",
      "=========================================================================================\n"
     ]
    }
   ],
   "source": [
    "from statsmodels.formula.api import logit\n",
    "logregmodel = logit('bad ~ 1 + PCL + n_customers'\n",
    "                   ' + pay_delay + B2C + system_history + avg_trans_size'\n",
    "                   ' + rel_cashflow + delay_trend + transaction_intensity'\n",
    "                   ' + age_mature + age_new + age_old + segment_b'\n",
    "                   ' + segment_c + segment_d + segment_e + segment_f + segment_g'\n",
    "                   ' + segment_h + segment_i + segment_x', companies_model).fit()\n",
    "print(logregmodel.summary())"
   ]
  },
  {
   "cell_type": "markdown",
   "metadata": {},
   "source": [
    "## We can also do some classification\n",
    "First split data into training (80 %) and testing (20 %) sets using **sklearn** built in function to stratify training and testing data on the dependent variable. "
   ]
  },
  {
   "cell_type": "code",
   "execution_count": 43,
   "metadata": {},
   "outputs": [],
   "source": [
    "X  = companies_model.drop('bad', axis = 1, inplace = False)\n",
    "Y  = companies_model.pop('bad')\n",
    "X_train, X_test, Y_train, Y_test = sklearn.model_selection.train_test_split(X, Y, test_size=0.2, random_state=2, stratify=Y)"
   ]
  },
  {
   "cell_type": "markdown",
   "metadata": {},
   "source": [
    "Define wrapper function for training a logistic regression classifier using **sklearn**\n",
    "\n",
    "```python\n",
    "def logreg_train(X_train, Y_train, X_test, Y_test):\n",
    "    \n",
    "    # Create logistic regression model object\n",
    "    classifier = sklearn.linear_model.LogisticRegression(penalty='l2', dual=False, tol=0.0001, C=1.0,\n",
    "                                            fit_intercept=True, intercept_scaling=1, class_weight=None, \n",
    "                                            random_state=None, solver='lbfgs', max_iter=1000, multi_class='auto', \n",
    "                                            verbose=0, warm_start=False, n_jobs=None, l1_ratio=None)    \n",
    "    # Fit classifier using the training data\n",
    "    classifier.fit(X_train, Y_train)\n",
    "    return classifier\n",
    "```"
   ]
  },
  {
   "cell_type": "code",
   "execution_count": 44,
   "metadata": {},
   "outputs": [],
   "source": [
    "classifier = logreg_train(X_train, Y_train, X_test, Y_test)"
   ]
  },
  {
   "cell_type": "markdown",
   "metadata": {},
   "source": [
    "Define wrapper function for evaluating the classifier\n",
    "\n",
    "```python\n",
    "def eval_classifier(classifier, X_train, Y_train, X_test, Y_test, cutoff):\n",
    "    # Evaluate on training data\n",
    "    print('\\n-- Training data --')\n",
    "    decisions = (classifier.predict_proba(X_train) >= cutoff)[:,1].astype(int)\n",
    "    accuracy = sklearn.metrics.accuracy_score(Y_train, decisions)\n",
    "    print('Accuracy: {0:.2f}'.format(accuracy * 100.0))\n",
    "    print('Classification Report:')\n",
    "    print(sklearn.metrics.classification_report(Y_train, decisions))\n",
    "    print('Confusion Matrix:')\n",
    "    print(sklearn.metrics.confusion_matrix(Y_train, decisions))\n",
    "    print('')\n",
    "    # Evaluate on test data\n",
    "    print('\\n---- Test data ----')\n",
    "    decisions = (classifier.predict_proba(X_test) >= cutoff)[:,1].astype(int)\n",
    "    accuracy = sklearn.metrics.accuracy_score(Y_test, decisions)\n",
    "    print('Accuracy: {0:.2f}'.format(accuracy * 100.0))\n",
    "    print('Classification Report:')\n",
    "    print(sklearn.metrics.classification_report(Y_test, decisions))\n",
    "    print('Confusion Matrix:')\n",
    "    print(sklearn.metrics.confusion_matrix(Y_test, decisions))\n",
    "    print('Coefficients:')\n",
    "    coefs = pd.DataFrame(data = classifier.coef_, columns = list(X_train.columns))\n",
    "    print(coefs)\n",
    "```"
   ]
  },
  {
   "cell_type": "markdown",
   "metadata": {},
   "source": [
    "Evaluate precision, recall (specificity) and get confusion matrices for training and testing data using some probability cutoff for classifying bad companies."
   ]
  },
  {
   "cell_type": "code",
   "execution_count": 45,
   "metadata": {},
   "outputs": [
    {
     "name": "stdout",
     "output_type": "stream",
     "text": [
      "\n",
      "-- Training data --\n",
      "Accuracy: 71.89\n",
      "Classification Report:\n",
      "              precision    recall  f1-score   support\n",
      "\n",
      "         0.0       0.98      0.72      0.83     12337\n",
      "         1.0       0.06      0.56      0.11       418\n",
      "\n",
      "    accuracy                           0.72     12755\n",
      "   macro avg       0.52      0.64      0.47     12755\n",
      "weighted avg       0.95      0.72      0.81     12755\n",
      "\n",
      "Confusion Matrix:\n",
      "[[8938 3399]\n",
      " [ 186  232]]\n",
      "\n",
      "\n",
      "---- Test data ----\n",
      "Accuracy: 71.62\n",
      "Classification Report:\n",
      "              precision    recall  f1-score   support\n",
      "\n",
      "         0.0       0.98      0.72      0.83      3085\n",
      "         1.0       0.06      0.52      0.11       104\n",
      "\n",
      "    accuracy                           0.72      3189\n",
      "   macro avg       0.52      0.62      0.47      3189\n",
      "weighted avg       0.95      0.72      0.81      3189\n",
      "\n",
      "Confusion Matrix:\n",
      "[[2230  855]\n",
      " [  50   54]]\n",
      "Coefficients:\n",
      "            PCL  n_customers  pay_delay       B2C  system_history  \\\n",
      "0 -2.524854e-07    -0.000639  -0.000073 -0.000003       -0.005533   \n",
      "\n",
      "   avg_trans_size  rel_cashflow  delay_trend  transaction_intensity  \\\n",
      "0       -0.000019 -2.527907e-07     0.000002              -0.000007   \n",
      "\n",
      "   age_mature  ...   age_old     segment_b     segment_c  segment_d  \\\n",
      "0   -0.000003  ... -0.000002 -2.267787e-07 -2.182735e-07  -0.000003   \n",
      "\n",
      "      segment_e  segment_f  segment_g  segment_h     segment_i     segment_x  \n",
      "0 -7.517865e-07  -0.000001  -0.000001  -0.000002 -9.050070e-07 -7.196525e-09  \n",
      "\n",
      "[1 rows x 21 columns]\n"
     ]
    }
   ],
   "source": [
    "eval_classifier(classifier, X_train, Y_train, X_test, Y_test, cutoff = 0.05)"
   ]
  },
  {
   "cell_type": "code",
   "execution_count": null,
   "metadata": {},
   "outputs": [],
   "source": []
  }
 ],
 "metadata": {
  "kernelspec": {
   "display_name": "Python 3",
   "language": "python",
   "name": "python3"
  },
  "language_info": {
   "codemirror_mode": {
    "name": "ipython",
    "version": 3
   },
   "file_extension": ".py",
   "mimetype": "text/x-python",
   "name": "python",
   "nbconvert_exporter": "python",
   "pygments_lexer": "ipython3",
   "version": "3.6.9"
  }
 },
 "nbformat": 4,
 "nbformat_minor": 2
}
